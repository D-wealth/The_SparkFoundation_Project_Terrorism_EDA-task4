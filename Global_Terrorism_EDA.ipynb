{
 "cells": [
  {
   "cell_type": "markdown",
   "id": "24b42d80",
   "metadata": {},
   "source": [
    "## THE SPARK FOUNDATION (GRIP) INTERNSHIP PROJECT (TASK 4)"
   ]
  },
  {
   "cell_type": "markdown",
   "id": "62205868",
   "metadata": {},
   "source": [
    "# THE AIM OF THIS PROJECT IS TO FIND OUT THE HOT ZONE OF TERRORISM AS A DEFENSE ANALYST AND FIND INSIGHT OF ISSUES CAUSING TERRORISM USING EXPLORATION DATA ANALYSIS ( EDA )"
   ]
  },
  {
   "cell_type": "markdown",
   "id": "23807aca",
   "metadata": {},
   "source": [
    "## IMPORTING THE NECESSARY LIBRARIES"
   ]
  },
  {
   "cell_type": "code",
   "execution_count": 1,
   "id": "073197c5",
   "metadata": {},
   "outputs": [],
   "source": [
    "import numpy as np\n",
    "import pandas as pd\n",
    "import chardet\n",
    "import matplotlib.pyplot as plt\n",
    "import seaborn as sns"
   ]
  },
  {
   "cell_type": "code",
   "execution_count": 2,
   "id": "7a325907",
   "metadata": {},
   "outputs": [],
   "source": [
    "file = 'globalterrorismdb_0718dist.csv'"
   ]
  },
  {
   "cell_type": "code",
   "execution_count": 3,
   "id": "d954b8bf",
   "metadata": {},
   "outputs": [
    {
     "data": {
      "text/plain": [
       "{'encoding': 'ISO-8859-1', 'confidence': 0.73, 'language': ''}"
      ]
     },
     "execution_count": 3,
     "metadata": {},
     "output_type": "execute_result"
    }
   ],
   "source": [
    "with open(file, 'rb') as rawdata:\n",
    "    result = chardet.detect(rawdata.read(100000))\n",
    "result"
   ]
  },
  {
   "cell_type": "code",
   "execution_count": 4,
   "id": "ac688d78",
   "metadata": {},
   "outputs": [],
   "source": [
    "data = pd.read_csv(file,encoding='ISO-8859-1', low_memory=False)"
   ]
  },
  {
   "cell_type": "code",
   "execution_count": 5,
   "id": "6dcfa558",
   "metadata": {},
   "outputs": [
    {
     "data": {
      "text/html": [
       "<div>\n",
       "<style scoped>\n",
       "    .dataframe tbody tr th:only-of-type {\n",
       "        vertical-align: middle;\n",
       "    }\n",
       "\n",
       "    .dataframe tbody tr th {\n",
       "        vertical-align: top;\n",
       "    }\n",
       "\n",
       "    .dataframe thead th {\n",
       "        text-align: right;\n",
       "    }\n",
       "</style>\n",
       "<table border=\"1\" class=\"dataframe\">\n",
       "  <thead>\n",
       "    <tr style=\"text-align: right;\">\n",
       "      <th></th>\n",
       "      <th>eventid</th>\n",
       "      <th>iyear</th>\n",
       "      <th>imonth</th>\n",
       "      <th>iday</th>\n",
       "      <th>approxdate</th>\n",
       "      <th>extended</th>\n",
       "      <th>resolution</th>\n",
       "      <th>country</th>\n",
       "      <th>country_txt</th>\n",
       "      <th>region</th>\n",
       "      <th>...</th>\n",
       "      <th>addnotes</th>\n",
       "      <th>scite1</th>\n",
       "      <th>scite2</th>\n",
       "      <th>scite3</th>\n",
       "      <th>dbsource</th>\n",
       "      <th>INT_LOG</th>\n",
       "      <th>INT_IDEO</th>\n",
       "      <th>INT_MISC</th>\n",
       "      <th>INT_ANY</th>\n",
       "      <th>related</th>\n",
       "    </tr>\n",
       "  </thead>\n",
       "  <tbody>\n",
       "    <tr>\n",
       "      <th>0</th>\n",
       "      <td>197000000001</td>\n",
       "      <td>1970</td>\n",
       "      <td>7</td>\n",
       "      <td>2</td>\n",
       "      <td>NaN</td>\n",
       "      <td>0</td>\n",
       "      <td>NaN</td>\n",
       "      <td>58</td>\n",
       "      <td>Dominican Republic</td>\n",
       "      <td>2</td>\n",
       "      <td>...</td>\n",
       "      <td>NaN</td>\n",
       "      <td>NaN</td>\n",
       "      <td>NaN</td>\n",
       "      <td>NaN</td>\n",
       "      <td>PGIS</td>\n",
       "      <td>0</td>\n",
       "      <td>0</td>\n",
       "      <td>0</td>\n",
       "      <td>0</td>\n",
       "      <td>NaN</td>\n",
       "    </tr>\n",
       "    <tr>\n",
       "      <th>1</th>\n",
       "      <td>197000000002</td>\n",
       "      <td>1970</td>\n",
       "      <td>0</td>\n",
       "      <td>0</td>\n",
       "      <td>NaN</td>\n",
       "      <td>0</td>\n",
       "      <td>NaN</td>\n",
       "      <td>130</td>\n",
       "      <td>Mexico</td>\n",
       "      <td>1</td>\n",
       "      <td>...</td>\n",
       "      <td>NaN</td>\n",
       "      <td>NaN</td>\n",
       "      <td>NaN</td>\n",
       "      <td>NaN</td>\n",
       "      <td>PGIS</td>\n",
       "      <td>0</td>\n",
       "      <td>1</td>\n",
       "      <td>1</td>\n",
       "      <td>1</td>\n",
       "      <td>NaN</td>\n",
       "    </tr>\n",
       "    <tr>\n",
       "      <th>2</th>\n",
       "      <td>197001000001</td>\n",
       "      <td>1970</td>\n",
       "      <td>1</td>\n",
       "      <td>0</td>\n",
       "      <td>NaN</td>\n",
       "      <td>0</td>\n",
       "      <td>NaN</td>\n",
       "      <td>160</td>\n",
       "      <td>Philippines</td>\n",
       "      <td>5</td>\n",
       "      <td>...</td>\n",
       "      <td>NaN</td>\n",
       "      <td>NaN</td>\n",
       "      <td>NaN</td>\n",
       "      <td>NaN</td>\n",
       "      <td>PGIS</td>\n",
       "      <td>-9</td>\n",
       "      <td>-9</td>\n",
       "      <td>1</td>\n",
       "      <td>1</td>\n",
       "      <td>NaN</td>\n",
       "    </tr>\n",
       "    <tr>\n",
       "      <th>3</th>\n",
       "      <td>197001000002</td>\n",
       "      <td>1970</td>\n",
       "      <td>1</td>\n",
       "      <td>0</td>\n",
       "      <td>NaN</td>\n",
       "      <td>0</td>\n",
       "      <td>NaN</td>\n",
       "      <td>78</td>\n",
       "      <td>Greece</td>\n",
       "      <td>8</td>\n",
       "      <td>...</td>\n",
       "      <td>NaN</td>\n",
       "      <td>NaN</td>\n",
       "      <td>NaN</td>\n",
       "      <td>NaN</td>\n",
       "      <td>PGIS</td>\n",
       "      <td>-9</td>\n",
       "      <td>-9</td>\n",
       "      <td>1</td>\n",
       "      <td>1</td>\n",
       "      <td>NaN</td>\n",
       "    </tr>\n",
       "    <tr>\n",
       "      <th>4</th>\n",
       "      <td>197001000003</td>\n",
       "      <td>1970</td>\n",
       "      <td>1</td>\n",
       "      <td>0</td>\n",
       "      <td>NaN</td>\n",
       "      <td>0</td>\n",
       "      <td>NaN</td>\n",
       "      <td>101</td>\n",
       "      <td>Japan</td>\n",
       "      <td>4</td>\n",
       "      <td>...</td>\n",
       "      <td>NaN</td>\n",
       "      <td>NaN</td>\n",
       "      <td>NaN</td>\n",
       "      <td>NaN</td>\n",
       "      <td>PGIS</td>\n",
       "      <td>-9</td>\n",
       "      <td>-9</td>\n",
       "      <td>1</td>\n",
       "      <td>1</td>\n",
       "      <td>NaN</td>\n",
       "    </tr>\n",
       "  </tbody>\n",
       "</table>\n",
       "<p>5 rows × 135 columns</p>\n",
       "</div>"
      ],
      "text/plain": [
       "        eventid  iyear  imonth  iday approxdate  extended resolution  country  \\\n",
       "0  197000000001   1970       7     2        NaN         0        NaN       58   \n",
       "1  197000000002   1970       0     0        NaN         0        NaN      130   \n",
       "2  197001000001   1970       1     0        NaN         0        NaN      160   \n",
       "3  197001000002   1970       1     0        NaN         0        NaN       78   \n",
       "4  197001000003   1970       1     0        NaN         0        NaN      101   \n",
       "\n",
       "          country_txt  region  ... addnotes scite1 scite2  scite3  dbsource  \\\n",
       "0  Dominican Republic       2  ...      NaN    NaN    NaN     NaN      PGIS   \n",
       "1              Mexico       1  ...      NaN    NaN    NaN     NaN      PGIS   \n",
       "2         Philippines       5  ...      NaN    NaN    NaN     NaN      PGIS   \n",
       "3              Greece       8  ...      NaN    NaN    NaN     NaN      PGIS   \n",
       "4               Japan       4  ...      NaN    NaN    NaN     NaN      PGIS   \n",
       "\n",
       "   INT_LOG  INT_IDEO INT_MISC INT_ANY  related  \n",
       "0        0         0        0       0      NaN  \n",
       "1        0         1        1       1      NaN  \n",
       "2       -9        -9        1       1      NaN  \n",
       "3       -9        -9        1       1      NaN  \n",
       "4       -9        -9        1       1      NaN  \n",
       "\n",
       "[5 rows x 135 columns]"
      ]
     },
     "execution_count": 5,
     "metadata": {},
     "output_type": "execute_result"
    }
   ],
   "source": [
    "data.head()"
   ]
  },
  {
   "cell_type": "code",
   "execution_count": 6,
   "id": "bf17290d",
   "metadata": {},
   "outputs": [
    {
     "data": {
      "text/plain": [
       "Index(['eventid', 'iyear', 'imonth', 'iday', 'approxdate', 'extended',\n",
       "       'resolution', 'country', 'country_txt', 'region',\n",
       "       ...\n",
       "       'addnotes', 'scite1', 'scite2', 'scite3', 'dbsource', 'INT_LOG',\n",
       "       'INT_IDEO', 'INT_MISC', 'INT_ANY', 'related'],\n",
       "      dtype='object', length=135)"
      ]
     },
     "execution_count": 6,
     "metadata": {},
     "output_type": "execute_result"
    }
   ],
   "source": [
    "data.columns"
   ]
  },
  {
   "cell_type": "code",
   "execution_count": 7,
   "id": "5ad8aac0",
   "metadata": {},
   "outputs": [
    {
     "data": {
      "text/plain": [
       "eventid            0\n",
       "iyear              0\n",
       "imonth             0\n",
       "iday               0\n",
       "approxdate    172452\n",
       "               ...  \n",
       "INT_LOG            0\n",
       "INT_IDEO           0\n",
       "INT_MISC           0\n",
       "INT_ANY            0\n",
       "related       156653\n",
       "Length: 135, dtype: int64"
      ]
     },
     "execution_count": 7,
     "metadata": {},
     "output_type": "execute_result"
    }
   ],
   "source": [
    "data.isna().sum()"
   ]
  },
  {
   "cell_type": "code",
   "execution_count": 8,
   "id": "5415ad28",
   "metadata": {},
   "outputs": [
    {
     "data": {
      "text/plain": [
       "(181691, 135)"
      ]
     },
     "execution_count": 8,
     "metadata": {},
     "output_type": "execute_result"
    }
   ],
   "source": [
    "data.shape"
   ]
  },
  {
   "cell_type": "code",
   "execution_count": 9,
   "id": "cc958e20",
   "metadata": {
    "scrolled": true
   },
   "outputs": [
    {
     "data": {
      "text/plain": [
       "0"
      ]
     },
     "execution_count": 9,
     "metadata": {},
     "output_type": "execute_result"
    }
   ],
   "source": [
    "data.duplicated().sum()"
   ]
  },
  {
   "cell_type": "code",
   "execution_count": 10,
   "id": "7a0ae481",
   "metadata": {},
   "outputs": [
    {
     "data": {
      "text/plain": [
       "Index(['eventid', 'iyear', 'imonth', 'iday', 'approxdate', 'extended',\n",
       "       'resolution', 'country', 'country_txt', 'region',\n",
       "       ...\n",
       "       'addnotes', 'scite1', 'scite2', 'scite3', 'dbsource', 'INT_LOG',\n",
       "       'INT_IDEO', 'INT_MISC', 'INT_ANY', 'related'],\n",
       "      dtype='object', length=135)"
      ]
     },
     "execution_count": 10,
     "metadata": {},
     "output_type": "execute_result"
    }
   ],
   "source": [
    "data.columns"
   ]
  },
  {
   "cell_type": "markdown",
   "id": "ed111c1b",
   "metadata": {},
   "source": [
    "Drop The (\"EventId\", \"approxdate\", \"related\") Column"
   ]
  },
  {
   "cell_type": "code",
   "execution_count": 11,
   "id": "7057e32c",
   "metadata": {},
   "outputs": [],
   "source": [
    "data.drop(['eventid', 'approxdate', 'related'], axis=1, inplace=True)"
   ]
  },
  {
   "cell_type": "code",
   "execution_count": 12,
   "id": "984fcfb6",
   "metadata": {},
   "outputs": [
    {
     "data": {
      "text/html": [
       "<div>\n",
       "<style scoped>\n",
       "    .dataframe tbody tr th:only-of-type {\n",
       "        vertical-align: middle;\n",
       "    }\n",
       "\n",
       "    .dataframe tbody tr th {\n",
       "        vertical-align: top;\n",
       "    }\n",
       "\n",
       "    .dataframe thead th {\n",
       "        text-align: right;\n",
       "    }\n",
       "</style>\n",
       "<table border=\"1\" class=\"dataframe\">\n",
       "  <thead>\n",
       "    <tr style=\"text-align: right;\">\n",
       "      <th></th>\n",
       "      <th>iyear</th>\n",
       "      <th>imonth</th>\n",
       "      <th>iday</th>\n",
       "      <th>extended</th>\n",
       "      <th>resolution</th>\n",
       "      <th>country</th>\n",
       "      <th>country_txt</th>\n",
       "      <th>region</th>\n",
       "      <th>region_txt</th>\n",
       "      <th>provstate</th>\n",
       "      <th>...</th>\n",
       "      <th>nreleased</th>\n",
       "      <th>addnotes</th>\n",
       "      <th>scite1</th>\n",
       "      <th>scite2</th>\n",
       "      <th>scite3</th>\n",
       "      <th>dbsource</th>\n",
       "      <th>INT_LOG</th>\n",
       "      <th>INT_IDEO</th>\n",
       "      <th>INT_MISC</th>\n",
       "      <th>INT_ANY</th>\n",
       "    </tr>\n",
       "  </thead>\n",
       "  <tbody>\n",
       "    <tr>\n",
       "      <th>0</th>\n",
       "      <td>1970</td>\n",
       "      <td>7</td>\n",
       "      <td>2</td>\n",
       "      <td>0</td>\n",
       "      <td>NaN</td>\n",
       "      <td>58</td>\n",
       "      <td>Dominican Republic</td>\n",
       "      <td>2</td>\n",
       "      <td>Central America &amp; Caribbean</td>\n",
       "      <td>NaN</td>\n",
       "      <td>...</td>\n",
       "      <td>NaN</td>\n",
       "      <td>NaN</td>\n",
       "      <td>NaN</td>\n",
       "      <td>NaN</td>\n",
       "      <td>NaN</td>\n",
       "      <td>PGIS</td>\n",
       "      <td>0</td>\n",
       "      <td>0</td>\n",
       "      <td>0</td>\n",
       "      <td>0</td>\n",
       "    </tr>\n",
       "    <tr>\n",
       "      <th>1</th>\n",
       "      <td>1970</td>\n",
       "      <td>0</td>\n",
       "      <td>0</td>\n",
       "      <td>0</td>\n",
       "      <td>NaN</td>\n",
       "      <td>130</td>\n",
       "      <td>Mexico</td>\n",
       "      <td>1</td>\n",
       "      <td>North America</td>\n",
       "      <td>Federal</td>\n",
       "      <td>...</td>\n",
       "      <td>NaN</td>\n",
       "      <td>NaN</td>\n",
       "      <td>NaN</td>\n",
       "      <td>NaN</td>\n",
       "      <td>NaN</td>\n",
       "      <td>PGIS</td>\n",
       "      <td>0</td>\n",
       "      <td>1</td>\n",
       "      <td>1</td>\n",
       "      <td>1</td>\n",
       "    </tr>\n",
       "    <tr>\n",
       "      <th>2</th>\n",
       "      <td>1970</td>\n",
       "      <td>1</td>\n",
       "      <td>0</td>\n",
       "      <td>0</td>\n",
       "      <td>NaN</td>\n",
       "      <td>160</td>\n",
       "      <td>Philippines</td>\n",
       "      <td>5</td>\n",
       "      <td>Southeast Asia</td>\n",
       "      <td>Tarlac</td>\n",
       "      <td>...</td>\n",
       "      <td>NaN</td>\n",
       "      <td>NaN</td>\n",
       "      <td>NaN</td>\n",
       "      <td>NaN</td>\n",
       "      <td>NaN</td>\n",
       "      <td>PGIS</td>\n",
       "      <td>-9</td>\n",
       "      <td>-9</td>\n",
       "      <td>1</td>\n",
       "      <td>1</td>\n",
       "    </tr>\n",
       "    <tr>\n",
       "      <th>3</th>\n",
       "      <td>1970</td>\n",
       "      <td>1</td>\n",
       "      <td>0</td>\n",
       "      <td>0</td>\n",
       "      <td>NaN</td>\n",
       "      <td>78</td>\n",
       "      <td>Greece</td>\n",
       "      <td>8</td>\n",
       "      <td>Western Europe</td>\n",
       "      <td>Attica</td>\n",
       "      <td>...</td>\n",
       "      <td>NaN</td>\n",
       "      <td>NaN</td>\n",
       "      <td>NaN</td>\n",
       "      <td>NaN</td>\n",
       "      <td>NaN</td>\n",
       "      <td>PGIS</td>\n",
       "      <td>-9</td>\n",
       "      <td>-9</td>\n",
       "      <td>1</td>\n",
       "      <td>1</td>\n",
       "    </tr>\n",
       "    <tr>\n",
       "      <th>4</th>\n",
       "      <td>1970</td>\n",
       "      <td>1</td>\n",
       "      <td>0</td>\n",
       "      <td>0</td>\n",
       "      <td>NaN</td>\n",
       "      <td>101</td>\n",
       "      <td>Japan</td>\n",
       "      <td>4</td>\n",
       "      <td>East Asia</td>\n",
       "      <td>Fukouka</td>\n",
       "      <td>...</td>\n",
       "      <td>NaN</td>\n",
       "      <td>NaN</td>\n",
       "      <td>NaN</td>\n",
       "      <td>NaN</td>\n",
       "      <td>NaN</td>\n",
       "      <td>PGIS</td>\n",
       "      <td>-9</td>\n",
       "      <td>-9</td>\n",
       "      <td>1</td>\n",
       "      <td>1</td>\n",
       "    </tr>\n",
       "  </tbody>\n",
       "</table>\n",
       "<p>5 rows × 132 columns</p>\n",
       "</div>"
      ],
      "text/plain": [
       "   iyear  imonth  iday  extended resolution  country         country_txt  \\\n",
       "0   1970       7     2         0        NaN       58  Dominican Republic   \n",
       "1   1970       0     0         0        NaN      130              Mexico   \n",
       "2   1970       1     0         0        NaN      160         Philippines   \n",
       "3   1970       1     0         0        NaN       78              Greece   \n",
       "4   1970       1     0         0        NaN      101               Japan   \n",
       "\n",
       "   region                   region_txt provstate  ... nreleased  addnotes  \\\n",
       "0       2  Central America & Caribbean       NaN  ...       NaN       NaN   \n",
       "1       1                North America   Federal  ...       NaN       NaN   \n",
       "2       5               Southeast Asia    Tarlac  ...       NaN       NaN   \n",
       "3       8               Western Europe    Attica  ...       NaN       NaN   \n",
       "4       4                    East Asia   Fukouka  ...       NaN       NaN   \n",
       "\n",
       "   scite1  scite2  scite3 dbsource INT_LOG  INT_IDEO  INT_MISC  INT_ANY  \n",
       "0     NaN     NaN     NaN     PGIS       0         0         0        0  \n",
       "1     NaN     NaN     NaN     PGIS       0         1         1        1  \n",
       "2     NaN     NaN     NaN     PGIS      -9        -9         1        1  \n",
       "3     NaN     NaN     NaN     PGIS      -9        -9         1        1  \n",
       "4     NaN     NaN     NaN     PGIS      -9        -9         1        1  \n",
       "\n",
       "[5 rows x 132 columns]"
      ]
     },
     "execution_count": 12,
     "metadata": {},
     "output_type": "execute_result"
    }
   ],
   "source": [
    "data.head()"
   ]
  },
  {
   "cell_type": "markdown",
   "id": "78617c4b",
   "metadata": {},
   "source": [
    "Data Exploration"
   ]
  },
  {
   "cell_type": "code",
   "execution_count": 13,
   "id": "9f27f052",
   "metadata": {},
   "outputs": [
    {
     "data": {
      "text/plain": [
       "'Countries with most attacks : 95'"
      ]
     },
     "metadata": {},
     "output_type": "display_data"
    },
    {
     "data": {
      "text/plain": [
       "'City with most attacks : Baghdad'"
      ]
     },
     "metadata": {},
     "output_type": "display_data"
    },
    {
     "data": {
      "text/plain": [
       "'Regions with most attacks : Middle East & North Africa'"
      ]
     },
     "metadata": {},
     "output_type": "display_data"
    },
    {
     "data": {
      "text/plain": [
       "'Year with most attacks : 2014'"
      ]
     },
     "metadata": {},
     "output_type": "display_data"
    },
    {
     "data": {
      "text/plain": [
       "'Month with most attacks : 5'"
      ]
     },
     "metadata": {},
     "output_type": "display_data"
    },
    {
     "data": {
      "text/plain": [
       "'Groups with most attacks : Taliban'"
      ]
     },
     "metadata": {},
     "output_type": "display_data"
    },
    {
     "data": {
      "text/plain": [
       "'Most attack Types : Bombing/Explosion'"
      ]
     },
     "metadata": {},
     "output_type": "display_data"
    }
   ],
   "source": [
    "display(f'Countries with most attacks : {data.country.value_counts().idxmax()}')\n",
    "display(f'City with most attacks : {data.city.value_counts().index[1]}')\n",
    "display(f'Regions with most attacks : {data.region_txt.value_counts().idxmax()}')\n",
    "display(f'Year with most attacks : {data.iyear.value_counts().idxmax()}')\n",
    "display(f'Month with most attacks : {data.imonth.value_counts().idxmax()}')\n",
    "display(f'Groups with most attacks : {data.gname.value_counts().index[1]}')\n",
    "display(f'Most attack Types : {data.attacktype1_txt.value_counts().idxmax()}')"
   ]
  },
  {
   "cell_type": "markdown",
   "id": "b1a94286",
   "metadata": {},
   "source": [
    "The Above Code Review Countries, Cit, Regons, Year, Month, Groups the terrorist attacks the most"
   ]
  },
  {
   "cell_type": "markdown",
   "id": "7e290754",
   "metadata": {},
   "source": [
    "Visualizing The Cities Under Terrorist Attack"
   ]
  },
  {
   "cell_type": "code",
   "execution_count": 14,
   "id": "ab78c225",
   "metadata": {},
   "outputs": [
    {
     "data": {
      "image/png": "[encoded data removed]",
      "text/plain": [
       "<Figure size 864x432 with 1 Axes>"
      ]
     },
     "metadata": {
      "needs_background": "light"
     },
     "output_type": "display_data"
    }
   ],
   "source": [
    "plt.subplots(figsize=(12,6))\n",
    "sns.barplot(x=data.city.value_counts()[1:15].index, y=data.city.value_counts()[1:15].values, data=data)\n",
    "plt.show()"
   ]
  },
  {
   "cell_type": "markdown",
   "id": "f2a7e40d",
   "metadata": {},
   "source": [
    "The Above Visualization Indicates That \"Badhdad\" was the most attacked city by the Terrorist"
   ]
  },
  {
   "cell_type": "code",
   "execution_count": 15,
   "id": "e6d3ea2a",
   "metadata": {},
   "outputs": [
    {
     "data": {
      "text/plain": [
       "iyear              0\n",
       "imonth             0\n",
       "iday               0\n",
       "extended           0\n",
       "resolution    179471\n",
       "               ...  \n",
       "dbsource           0\n",
       "INT_LOG            0\n",
       "INT_IDEO           0\n",
       "INT_MISC           0\n",
       "INT_ANY            0\n",
       "Length: 132, dtype: int64"
      ]
     },
     "execution_count": 15,
     "metadata": {},
     "output_type": "execute_result"
    }
   ],
   "source": [
    "data.isna().sum()"
   ]
  },
  {
   "cell_type": "code",
   "execution_count": 16,
   "id": "8e912e17",
   "metadata": {},
   "outputs": [
    {
     "data": {
      "text/html": [
       "<div>\n",
       "<style scoped>\n",
       "    .dataframe tbody tr th:only-of-type {\n",
       "        vertical-align: middle;\n",
       "    }\n",
       "\n",
       "    .dataframe tbody tr th {\n",
       "        vertical-align: top;\n",
       "    }\n",
       "\n",
       "    .dataframe thead th {\n",
       "        text-align: right;\n",
       "    }\n",
       "</style>\n",
       "<table border=\"1\" class=\"dataframe\">\n",
       "  <thead>\n",
       "    <tr style=\"text-align: right;\">\n",
       "      <th></th>\n",
       "      <th>iyear</th>\n",
       "      <th>imonth</th>\n",
       "      <th>iday</th>\n",
       "      <th>extended</th>\n",
       "      <th>resolution</th>\n",
       "      <th>country</th>\n",
       "      <th>country_txt</th>\n",
       "      <th>region</th>\n",
       "      <th>region_txt</th>\n",
       "      <th>provstate</th>\n",
       "      <th>...</th>\n",
       "      <th>nreleased</th>\n",
       "      <th>addnotes</th>\n",
       "      <th>scite1</th>\n",
       "      <th>scite2</th>\n",
       "      <th>scite3</th>\n",
       "      <th>dbsource</th>\n",
       "      <th>INT_LOG</th>\n",
       "      <th>INT_IDEO</th>\n",
       "      <th>INT_MISC</th>\n",
       "      <th>INT_ANY</th>\n",
       "    </tr>\n",
       "  </thead>\n",
       "  <tbody>\n",
       "    <tr>\n",
       "      <th>0</th>\n",
       "      <td>1970</td>\n",
       "      <td>7</td>\n",
       "      <td>2</td>\n",
       "      <td>0</td>\n",
       "      <td>NaN</td>\n",
       "      <td>58</td>\n",
       "      <td>Dominican Republic</td>\n",
       "      <td>2</td>\n",
       "      <td>Central America &amp; Caribbean</td>\n",
       "      <td>NaN</td>\n",
       "      <td>...</td>\n",
       "      <td>NaN</td>\n",
       "      <td>NaN</td>\n",
       "      <td>NaN</td>\n",
       "      <td>NaN</td>\n",
       "      <td>NaN</td>\n",
       "      <td>PGIS</td>\n",
       "      <td>0</td>\n",
       "      <td>0</td>\n",
       "      <td>0</td>\n",
       "      <td>0</td>\n",
       "    </tr>\n",
       "    <tr>\n",
       "      <th>1</th>\n",
       "      <td>1970</td>\n",
       "      <td>0</td>\n",
       "      <td>0</td>\n",
       "      <td>0</td>\n",
       "      <td>NaN</td>\n",
       "      <td>130</td>\n",
       "      <td>Mexico</td>\n",
       "      <td>1</td>\n",
       "      <td>North America</td>\n",
       "      <td>Federal</td>\n",
       "      <td>...</td>\n",
       "      <td>NaN</td>\n",
       "      <td>NaN</td>\n",
       "      <td>NaN</td>\n",
       "      <td>NaN</td>\n",
       "      <td>NaN</td>\n",
       "      <td>PGIS</td>\n",
       "      <td>0</td>\n",
       "      <td>1</td>\n",
       "      <td>1</td>\n",
       "      <td>1</td>\n",
       "    </tr>\n",
       "    <tr>\n",
       "      <th>2</th>\n",
       "      <td>1970</td>\n",
       "      <td>1</td>\n",
       "      <td>0</td>\n",
       "      <td>0</td>\n",
       "      <td>NaN</td>\n",
       "      <td>160</td>\n",
       "      <td>Philippines</td>\n",
       "      <td>5</td>\n",
       "      <td>Southeast Asia</td>\n",
       "      <td>Tarlac</td>\n",
       "      <td>...</td>\n",
       "      <td>NaN</td>\n",
       "      <td>NaN</td>\n",
       "      <td>NaN</td>\n",
       "      <td>NaN</td>\n",
       "      <td>NaN</td>\n",
       "      <td>PGIS</td>\n",
       "      <td>-9</td>\n",
       "      <td>-9</td>\n",
       "      <td>1</td>\n",
       "      <td>1</td>\n",
       "    </tr>\n",
       "    <tr>\n",
       "      <th>3</th>\n",
       "      <td>1970</td>\n",
       "      <td>1</td>\n",
       "      <td>0</td>\n",
       "      <td>0</td>\n",
       "      <td>NaN</td>\n",
       "      <td>78</td>\n",
       "      <td>Greece</td>\n",
       "      <td>8</td>\n",
       "      <td>Western Europe</td>\n",
       "      <td>Attica</td>\n",
       "      <td>...</td>\n",
       "      <td>NaN</td>\n",
       "      <td>NaN</td>\n",
       "      <td>NaN</td>\n",
       "      <td>NaN</td>\n",
       "      <td>NaN</td>\n",
       "      <td>PGIS</td>\n",
       "      <td>-9</td>\n",
       "      <td>-9</td>\n",
       "      <td>1</td>\n",
       "      <td>1</td>\n",
       "    </tr>\n",
       "    <tr>\n",
       "      <th>4</th>\n",
       "      <td>1970</td>\n",
       "      <td>1</td>\n",
       "      <td>0</td>\n",
       "      <td>0</td>\n",
       "      <td>NaN</td>\n",
       "      <td>101</td>\n",
       "      <td>Japan</td>\n",
       "      <td>4</td>\n",
       "      <td>East Asia</td>\n",
       "      <td>Fukouka</td>\n",
       "      <td>...</td>\n",
       "      <td>NaN</td>\n",
       "      <td>NaN</td>\n",
       "      <td>NaN</td>\n",
       "      <td>NaN</td>\n",
       "      <td>NaN</td>\n",
       "      <td>PGIS</td>\n",
       "      <td>-9</td>\n",
       "      <td>-9</td>\n",
       "      <td>1</td>\n",
       "      <td>1</td>\n",
       "    </tr>\n",
       "  </tbody>\n",
       "</table>\n",
       "<p>5 rows × 132 columns</p>\n",
       "</div>"
      ],
      "text/plain": [
       "   iyear  imonth  iday  extended resolution  country         country_txt  \\\n",
       "0   1970       7     2         0        NaN       58  Dominican Republic   \n",
       "1   1970       0     0         0        NaN      130              Mexico   \n",
       "2   1970       1     0         0        NaN      160         Philippines   \n",
       "3   1970       1     0         0        NaN       78              Greece   \n",
       "4   1970       1     0         0        NaN      101               Japan   \n",
       "\n",
       "   region                   region_txt provstate  ... nreleased  addnotes  \\\n",
       "0       2  Central America & Caribbean       NaN  ...       NaN       NaN   \n",
       "1       1                North America   Federal  ...       NaN       NaN   \n",
       "2       5               Southeast Asia    Tarlac  ...       NaN       NaN   \n",
       "3       8               Western Europe    Attica  ...       NaN       NaN   \n",
       "4       4                    East Asia   Fukouka  ...       NaN       NaN   \n",
       "\n",
       "   scite1  scite2  scite3 dbsource INT_LOG  INT_IDEO  INT_MISC  INT_ANY  \n",
       "0     NaN     NaN     NaN     PGIS       0         0         0        0  \n",
       "1     NaN     NaN     NaN     PGIS       0         1         1        1  \n",
       "2     NaN     NaN     NaN     PGIS      -9        -9         1        1  \n",
       "3     NaN     NaN     NaN     PGIS      -9        -9         1        1  \n",
       "4     NaN     NaN     NaN     PGIS      -9        -9         1        1  \n",
       "\n",
       "[5 rows x 132 columns]"
      ]
     },
     "execution_count": 16,
     "metadata": {},
     "output_type": "execute_result"
    }
   ],
   "source": [
    "data.head()"
   ]
  },
  {
   "cell_type": "code",
   "execution_count": 17,
   "id": "dd7f35c5",
   "metadata": {},
   "outputs": [],
   "source": [
    "df = data.dropna(axis=1)"
   ]
  },
  {
   "cell_type": "code",
   "execution_count": 18,
   "id": "9694a563",
   "metadata": {},
   "outputs": [
    {
     "data": {
      "text/html": [
       "<div>\n",
       "<style scoped>\n",
       "    .dataframe tbody tr th:only-of-type {\n",
       "        vertical-align: middle;\n",
       "    }\n",
       "\n",
       "    .dataframe tbody tr th {\n",
       "        vertical-align: top;\n",
       "    }\n",
       "\n",
       "    .dataframe thead th {\n",
       "        text-align: right;\n",
       "    }\n",
       "</style>\n",
       "<table border=\"1\" class=\"dataframe\">\n",
       "  <thead>\n",
       "    <tr style=\"text-align: right;\">\n",
       "      <th></th>\n",
       "      <th>iyear</th>\n",
       "      <th>imonth</th>\n",
       "      <th>iday</th>\n",
       "      <th>extended</th>\n",
       "      <th>country</th>\n",
       "      <th>country_txt</th>\n",
       "      <th>region</th>\n",
       "      <th>region_txt</th>\n",
       "      <th>vicinity</th>\n",
       "      <th>crit1</th>\n",
       "      <th>...</th>\n",
       "      <th>gname</th>\n",
       "      <th>individual</th>\n",
       "      <th>weaptype1</th>\n",
       "      <th>weaptype1_txt</th>\n",
       "      <th>property</th>\n",
       "      <th>dbsource</th>\n",
       "      <th>INT_LOG</th>\n",
       "      <th>INT_IDEO</th>\n",
       "      <th>INT_MISC</th>\n",
       "      <th>INT_ANY</th>\n",
       "    </tr>\n",
       "  </thead>\n",
       "  <tbody>\n",
       "    <tr>\n",
       "      <th>0</th>\n",
       "      <td>1970</td>\n",
       "      <td>7</td>\n",
       "      <td>2</td>\n",
       "      <td>0</td>\n",
       "      <td>58</td>\n",
       "      <td>Dominican Republic</td>\n",
       "      <td>2</td>\n",
       "      <td>Central America &amp; Caribbean</td>\n",
       "      <td>0</td>\n",
       "      <td>1</td>\n",
       "      <td>...</td>\n",
       "      <td>MANO-D</td>\n",
       "      <td>0</td>\n",
       "      <td>13</td>\n",
       "      <td>Unknown</td>\n",
       "      <td>0</td>\n",
       "      <td>PGIS</td>\n",
       "      <td>0</td>\n",
       "      <td>0</td>\n",
       "      <td>0</td>\n",
       "      <td>0</td>\n",
       "    </tr>\n",
       "    <tr>\n",
       "      <th>1</th>\n",
       "      <td>1970</td>\n",
       "      <td>0</td>\n",
       "      <td>0</td>\n",
       "      <td>0</td>\n",
       "      <td>130</td>\n",
       "      <td>Mexico</td>\n",
       "      <td>1</td>\n",
       "      <td>North America</td>\n",
       "      <td>0</td>\n",
       "      <td>1</td>\n",
       "      <td>...</td>\n",
       "      <td>23rd of September Communist League</td>\n",
       "      <td>0</td>\n",
       "      <td>13</td>\n",
       "      <td>Unknown</td>\n",
       "      <td>0</td>\n",
       "      <td>PGIS</td>\n",
       "      <td>0</td>\n",
       "      <td>1</td>\n",
       "      <td>1</td>\n",
       "      <td>1</td>\n",
       "    </tr>\n",
       "    <tr>\n",
       "      <th>2</th>\n",
       "      <td>1970</td>\n",
       "      <td>1</td>\n",
       "      <td>0</td>\n",
       "      <td>0</td>\n",
       "      <td>160</td>\n",
       "      <td>Philippines</td>\n",
       "      <td>5</td>\n",
       "      <td>Southeast Asia</td>\n",
       "      <td>0</td>\n",
       "      <td>1</td>\n",
       "      <td>...</td>\n",
       "      <td>Unknown</td>\n",
       "      <td>0</td>\n",
       "      <td>13</td>\n",
       "      <td>Unknown</td>\n",
       "      <td>0</td>\n",
       "      <td>PGIS</td>\n",
       "      <td>-9</td>\n",
       "      <td>-9</td>\n",
       "      <td>1</td>\n",
       "      <td>1</td>\n",
       "    </tr>\n",
       "    <tr>\n",
       "      <th>3</th>\n",
       "      <td>1970</td>\n",
       "      <td>1</td>\n",
       "      <td>0</td>\n",
       "      <td>0</td>\n",
       "      <td>78</td>\n",
       "      <td>Greece</td>\n",
       "      <td>8</td>\n",
       "      <td>Western Europe</td>\n",
       "      <td>0</td>\n",
       "      <td>1</td>\n",
       "      <td>...</td>\n",
       "      <td>Unknown</td>\n",
       "      <td>0</td>\n",
       "      <td>6</td>\n",
       "      <td>Explosives</td>\n",
       "      <td>1</td>\n",
       "      <td>PGIS</td>\n",
       "      <td>-9</td>\n",
       "      <td>-9</td>\n",
       "      <td>1</td>\n",
       "      <td>1</td>\n",
       "    </tr>\n",
       "    <tr>\n",
       "      <th>4</th>\n",
       "      <td>1970</td>\n",
       "      <td>1</td>\n",
       "      <td>0</td>\n",
       "      <td>0</td>\n",
       "      <td>101</td>\n",
       "      <td>Japan</td>\n",
       "      <td>4</td>\n",
       "      <td>East Asia</td>\n",
       "      <td>0</td>\n",
       "      <td>1</td>\n",
       "      <td>...</td>\n",
       "      <td>Unknown</td>\n",
       "      <td>0</td>\n",
       "      <td>8</td>\n",
       "      <td>Incendiary</td>\n",
       "      <td>1</td>\n",
       "      <td>PGIS</td>\n",
       "      <td>-9</td>\n",
       "      <td>-9</td>\n",
       "      <td>1</td>\n",
       "      <td>1</td>\n",
       "    </tr>\n",
       "  </tbody>\n",
       "</table>\n",
       "<p>5 rows × 28 columns</p>\n",
       "</div>"
      ],
      "text/plain": [
       "   iyear  imonth  iday  extended  country         country_txt  region  \\\n",
       "0   1970       7     2         0       58  Dominican Republic       2   \n",
       "1   1970       0     0         0      130              Mexico       1   \n",
       "2   1970       1     0         0      160         Philippines       5   \n",
       "3   1970       1     0         0       78              Greece       8   \n",
       "4   1970       1     0         0      101               Japan       4   \n",
       "\n",
       "                    region_txt  vicinity  crit1  ...  \\\n",
       "0  Central America & Caribbean         0      1  ...   \n",
       "1                North America         0      1  ...   \n",
       "2               Southeast Asia         0      1  ...   \n",
       "3               Western Europe         0      1  ...   \n",
       "4                    East Asia         0      1  ...   \n",
       "\n",
       "                                gname  individual  weaptype1  weaptype1_txt  \\\n",
       "0                              MANO-D           0         13        Unknown   \n",
       "1  23rd of September Communist League           0         13        Unknown   \n",
       "2                             Unknown           0         13        Unknown   \n",
       "3                             Unknown           0          6     Explosives   \n",
       "4                             Unknown           0          8     Incendiary   \n",
       "\n",
       "   property dbsource  INT_LOG INT_IDEO INT_MISC  INT_ANY  \n",
       "0         0     PGIS        0        0        0        0  \n",
       "1         0     PGIS        0        1        1        1  \n",
       "2         0     PGIS       -9       -9        1        1  \n",
       "3         1     PGIS       -9       -9        1        1  \n",
       "4         1     PGIS       -9       -9        1        1  \n",
       "\n",
       "[5 rows x 28 columns]"
      ]
     },
     "execution_count": 18,
     "metadata": {},
     "output_type": "execute_result"
    }
   ],
   "source": [
    "df.head()"
   ]
  },
  {
   "cell_type": "code",
   "execution_count": 19,
   "id": "7aab6365",
   "metadata": {},
   "outputs": [
    {
     "data": {
      "text/plain": [
       "Index(['iyear', 'imonth', 'iday', 'extended', 'country', 'country_txt',\n",
       "       'region', 'region_txt', 'vicinity', 'crit1', 'crit2', 'crit3',\n",
       "       'success', 'suicide', 'attacktype1', 'attacktype1_txt', 'targtype1',\n",
       "       'targtype1_txt', 'gname', 'individual', 'weaptype1', 'weaptype1_txt',\n",
       "       'property', 'dbsource', 'INT_LOG', 'INT_IDEO', 'INT_MISC', 'INT_ANY'],\n",
       "      dtype='object')"
      ]
     },
     "execution_count": 19,
     "metadata": {},
     "output_type": "execute_result"
    }
   ],
   "source": [
    "df.columns"
   ]
  },
  {
   "cell_type": "code",
   "execution_count": 20,
   "id": "255c9eb5",
   "metadata": {},
   "outputs": [
    {
     "data": {
      "text/plain": [
       "iyear              0\n",
       "imonth             0\n",
       "iday               0\n",
       "extended           0\n",
       "country            0\n",
       "country_txt        0\n",
       "region             0\n",
       "region_txt         0\n",
       "vicinity           0\n",
       "crit1              0\n",
       "crit2              0\n",
       "crit3              0\n",
       "success            0\n",
       "suicide            0\n",
       "attacktype1        0\n",
       "attacktype1_txt    0\n",
       "targtype1          0\n",
       "targtype1_txt      0\n",
       "gname              0\n",
       "individual         0\n",
       "weaptype1          0\n",
       "weaptype1_txt      0\n",
       "property           0\n",
       "dbsource           0\n",
       "INT_LOG            0\n",
       "INT_IDEO           0\n",
       "INT_MISC           0\n",
       "INT_ANY            0\n",
       "dtype: int64"
      ]
     },
     "execution_count": 20,
     "metadata": {},
     "output_type": "execute_result"
    }
   ],
   "source": [
    "df.isna().sum()"
   ]
  },
  {
   "cell_type": "markdown",
   "id": "cd507680",
   "metadata": {},
   "source": [
    "<!-- Visualizing The Country the terrorist Attacks the most -->"
   ]
  },
  {
   "cell_type": "code",
   "execution_count": 21,
   "id": "6e0f6f74",
   "metadata": {},
   "outputs": [
    {
     "data": {
      "text/html": [
       "<div>\n",
       "<style scoped>\n",
       "    .dataframe tbody tr th:only-of-type {\n",
       "        vertical-align: middle;\n",
       "    }\n",
       "\n",
       "    .dataframe tbody tr th {\n",
       "        vertical-align: top;\n",
       "    }\n",
       "\n",
       "    .dataframe thead th {\n",
       "        text-align: right;\n",
       "    }\n",
       "</style>\n",
       "<table border=\"1\" class=\"dataframe\">\n",
       "  <thead>\n",
       "    <tr style=\"text-align: right;\">\n",
       "      <th></th>\n",
       "      <th>iyear</th>\n",
       "      <th>imonth</th>\n",
       "      <th>iday</th>\n",
       "      <th>extended</th>\n",
       "      <th>country</th>\n",
       "      <th>country_txt</th>\n",
       "      <th>region</th>\n",
       "      <th>region_txt</th>\n",
       "      <th>vicinity</th>\n",
       "      <th>crit1</th>\n",
       "      <th>...</th>\n",
       "      <th>gname</th>\n",
       "      <th>individual</th>\n",
       "      <th>weaptype1</th>\n",
       "      <th>weaptype1_txt</th>\n",
       "      <th>property</th>\n",
       "      <th>dbsource</th>\n",
       "      <th>INT_LOG</th>\n",
       "      <th>INT_IDEO</th>\n",
       "      <th>INT_MISC</th>\n",
       "      <th>INT_ANY</th>\n",
       "    </tr>\n",
       "  </thead>\n",
       "  <tbody>\n",
       "    <tr>\n",
       "      <th>0</th>\n",
       "      <td>1970</td>\n",
       "      <td>7</td>\n",
       "      <td>2</td>\n",
       "      <td>0</td>\n",
       "      <td>58</td>\n",
       "      <td>Dominican Republic</td>\n",
       "      <td>2</td>\n",
       "      <td>Central America &amp; Caribbean</td>\n",
       "      <td>0</td>\n",
       "      <td>1</td>\n",
       "      <td>...</td>\n",
       "      <td>MANO-D</td>\n",
       "      <td>0</td>\n",
       "      <td>13</td>\n",
       "      <td>Unknown</td>\n",
       "      <td>0</td>\n",
       "      <td>PGIS</td>\n",
       "      <td>0</td>\n",
       "      <td>0</td>\n",
       "      <td>0</td>\n",
       "      <td>0</td>\n",
       "    </tr>\n",
       "    <tr>\n",
       "      <th>1</th>\n",
       "      <td>1970</td>\n",
       "      <td>0</td>\n",
       "      <td>0</td>\n",
       "      <td>0</td>\n",
       "      <td>130</td>\n",
       "      <td>Mexico</td>\n",
       "      <td>1</td>\n",
       "      <td>North America</td>\n",
       "      <td>0</td>\n",
       "      <td>1</td>\n",
       "      <td>...</td>\n",
       "      <td>23rd of September Communist League</td>\n",
       "      <td>0</td>\n",
       "      <td>13</td>\n",
       "      <td>Unknown</td>\n",
       "      <td>0</td>\n",
       "      <td>PGIS</td>\n",
       "      <td>0</td>\n",
       "      <td>1</td>\n",
       "      <td>1</td>\n",
       "      <td>1</td>\n",
       "    </tr>\n",
       "    <tr>\n",
       "      <th>2</th>\n",
       "      <td>1970</td>\n",
       "      <td>1</td>\n",
       "      <td>0</td>\n",
       "      <td>0</td>\n",
       "      <td>160</td>\n",
       "      <td>Philippines</td>\n",
       "      <td>5</td>\n",
       "      <td>Southeast Asia</td>\n",
       "      <td>0</td>\n",
       "      <td>1</td>\n",
       "      <td>...</td>\n",
       "      <td>Unknown</td>\n",
       "      <td>0</td>\n",
       "      <td>13</td>\n",
       "      <td>Unknown</td>\n",
       "      <td>0</td>\n",
       "      <td>PGIS</td>\n",
       "      <td>-9</td>\n",
       "      <td>-9</td>\n",
       "      <td>1</td>\n",
       "      <td>1</td>\n",
       "    </tr>\n",
       "    <tr>\n",
       "      <th>3</th>\n",
       "      <td>1970</td>\n",
       "      <td>1</td>\n",
       "      <td>0</td>\n",
       "      <td>0</td>\n",
       "      <td>78</td>\n",
       "      <td>Greece</td>\n",
       "      <td>8</td>\n",
       "      <td>Western Europe</td>\n",
       "      <td>0</td>\n",
       "      <td>1</td>\n",
       "      <td>...</td>\n",
       "      <td>Unknown</td>\n",
       "      <td>0</td>\n",
       "      <td>6</td>\n",
       "      <td>Explosives</td>\n",
       "      <td>1</td>\n",
       "      <td>PGIS</td>\n",
       "      <td>-9</td>\n",
       "      <td>-9</td>\n",
       "      <td>1</td>\n",
       "      <td>1</td>\n",
       "    </tr>\n",
       "    <tr>\n",
       "      <th>4</th>\n",
       "      <td>1970</td>\n",
       "      <td>1</td>\n",
       "      <td>0</td>\n",
       "      <td>0</td>\n",
       "      <td>101</td>\n",
       "      <td>Japan</td>\n",
       "      <td>4</td>\n",
       "      <td>East Asia</td>\n",
       "      <td>0</td>\n",
       "      <td>1</td>\n",
       "      <td>...</td>\n",
       "      <td>Unknown</td>\n",
       "      <td>0</td>\n",
       "      <td>8</td>\n",
       "      <td>Incendiary</td>\n",
       "      <td>1</td>\n",
       "      <td>PGIS</td>\n",
       "      <td>-9</td>\n",
       "      <td>-9</td>\n",
       "      <td>1</td>\n",
       "      <td>1</td>\n",
       "    </tr>\n",
       "  </tbody>\n",
       "</table>\n",
       "<p>5 rows × 28 columns</p>\n",
       "</div>"
      ],
      "text/plain": [
       "   iyear  imonth  iday  extended  country         country_txt  region  \\\n",
       "0   1970       7     2         0       58  Dominican Republic       2   \n",
       "1   1970       0     0         0      130              Mexico       1   \n",
       "2   1970       1     0         0      160         Philippines       5   \n",
       "3   1970       1     0         0       78              Greece       8   \n",
       "4   1970       1     0         0      101               Japan       4   \n",
       "\n",
       "                    region_txt  vicinity  crit1  ...  \\\n",
       "0  Central America & Caribbean         0      1  ...   \n",
       "1                North America         0      1  ...   \n",
       "2               Southeast Asia         0      1  ...   \n",
       "3               Western Europe         0      1  ...   \n",
       "4                    East Asia         0      1  ...   \n",
       "\n",
       "                                gname  individual  weaptype1  weaptype1_txt  \\\n",
       "0                              MANO-D           0         13        Unknown   \n",
       "1  23rd of September Communist League           0         13        Unknown   \n",
       "2                             Unknown           0         13        Unknown   \n",
       "3                             Unknown           0          6     Explosives   \n",
       "4                             Unknown           0          8     Incendiary   \n",
       "\n",
       "   property dbsource  INT_LOG INT_IDEO INT_MISC  INT_ANY  \n",
       "0         0     PGIS        0        0        0        0  \n",
       "1         0     PGIS        0        1        1        1  \n",
       "2         0     PGIS       -9       -9        1        1  \n",
       "3         1     PGIS       -9       -9        1        1  \n",
       "4         1     PGIS       -9       -9        1        1  \n",
       "\n",
       "[5 rows x 28 columns]"
      ]
     },
     "execution_count": 21,
     "metadata": {},
     "output_type": "execute_result"
    }
   ],
   "source": [
    "df.head()"
   ]
  },
  {
   "cell_type": "markdown",
   "id": "dc3b7721",
   "metadata": {},
   "source": [
    "Terrorism In Regions"
   ]
  },
  {
   "cell_type": "code",
   "execution_count": null,
   "id": "3eb712bd",
   "metadata": {},
   "outputs": [],
   "source": []
  },
  {
   "cell_type": "code",
   "execution_count": 22,
   "id": "1bca4fcd",
   "metadata": {
    "scrolled": true
   },
   "outputs": [
    {
     "data": {
      "image/png": "[encoded data removed]",
      "text/plain": [
       "<Figure size 864x432 with 1 Axes>"
      ]
     },
     "metadata": {
      "needs_background": "light"
     },
     "output_type": "display_data"
    }
   ],
   "source": [
    "pd.crosstab(df['iyear'], df['region_txt']).plot(kind='area', figsize=(12,6))\n",
    "plt.title('Terrorist Activities by Region Each Year')\n",
    "plt.ylabel('Number Of Attacks')\n",
    "plt.show()"
   ]
  },
  {
   "cell_type": "code",
   "execution_count": 23,
   "id": "3734ceb6",
   "metadata": {},
   "outputs": [
    {
     "data": {
      "text/html": [
       "<div>\n",
       "<style scoped>\n",
       "    .dataframe tbody tr th:only-of-type {\n",
       "        vertical-align: middle;\n",
       "    }\n",
       "\n",
       "    .dataframe tbody tr th {\n",
       "        vertical-align: top;\n",
       "    }\n",
       "\n",
       "    .dataframe thead th {\n",
       "        text-align: right;\n",
       "    }\n",
       "</style>\n",
       "<table border=\"1\" class=\"dataframe\">\n",
       "  <thead>\n",
       "    <tr style=\"text-align: right;\">\n",
       "      <th></th>\n",
       "      <th>iyear</th>\n",
       "      <th>imonth</th>\n",
       "      <th>iday</th>\n",
       "      <th>extended</th>\n",
       "      <th>country</th>\n",
       "      <th>country_txt</th>\n",
       "      <th>region</th>\n",
       "      <th>region_txt</th>\n",
       "      <th>vicinity</th>\n",
       "      <th>crit1</th>\n",
       "      <th>...</th>\n",
       "      <th>gname</th>\n",
       "      <th>individual</th>\n",
       "      <th>weaptype1</th>\n",
       "      <th>weaptype1_txt</th>\n",
       "      <th>property</th>\n",
       "      <th>dbsource</th>\n",
       "      <th>INT_LOG</th>\n",
       "      <th>INT_IDEO</th>\n",
       "      <th>INT_MISC</th>\n",
       "      <th>INT_ANY</th>\n",
       "    </tr>\n",
       "  </thead>\n",
       "  <tbody>\n",
       "    <tr>\n",
       "      <th>0</th>\n",
       "      <td>1970</td>\n",
       "      <td>7</td>\n",
       "      <td>2</td>\n",
       "      <td>0</td>\n",
       "      <td>58</td>\n",
       "      <td>Dominican Republic</td>\n",
       "      <td>2</td>\n",
       "      <td>Central America &amp; Caribbean</td>\n",
       "      <td>0</td>\n",
       "      <td>1</td>\n",
       "      <td>...</td>\n",
       "      <td>MANO-D</td>\n",
       "      <td>0</td>\n",
       "      <td>13</td>\n",
       "      <td>Unknown</td>\n",
       "      <td>0</td>\n",
       "      <td>PGIS</td>\n",
       "      <td>0</td>\n",
       "      <td>0</td>\n",
       "      <td>0</td>\n",
       "      <td>0</td>\n",
       "    </tr>\n",
       "    <tr>\n",
       "      <th>1</th>\n",
       "      <td>1970</td>\n",
       "      <td>0</td>\n",
       "      <td>0</td>\n",
       "      <td>0</td>\n",
       "      <td>130</td>\n",
       "      <td>Mexico</td>\n",
       "      <td>1</td>\n",
       "      <td>North America</td>\n",
       "      <td>0</td>\n",
       "      <td>1</td>\n",
       "      <td>...</td>\n",
       "      <td>23rd of September Communist League</td>\n",
       "      <td>0</td>\n",
       "      <td>13</td>\n",
       "      <td>Unknown</td>\n",
       "      <td>0</td>\n",
       "      <td>PGIS</td>\n",
       "      <td>0</td>\n",
       "      <td>1</td>\n",
       "      <td>1</td>\n",
       "      <td>1</td>\n",
       "    </tr>\n",
       "    <tr>\n",
       "      <th>2</th>\n",
       "      <td>1970</td>\n",
       "      <td>1</td>\n",
       "      <td>0</td>\n",
       "      <td>0</td>\n",
       "      <td>160</td>\n",
       "      <td>Philippines</td>\n",
       "      <td>5</td>\n",
       "      <td>Southeast Asia</td>\n",
       "      <td>0</td>\n",
       "      <td>1</td>\n",
       "      <td>...</td>\n",
       "      <td>Unknown</td>\n",
       "      <td>0</td>\n",
       "      <td>13</td>\n",
       "      <td>Unknown</td>\n",
       "      <td>0</td>\n",
       "      <td>PGIS</td>\n",
       "      <td>-9</td>\n",
       "      <td>-9</td>\n",
       "      <td>1</td>\n",
       "      <td>1</td>\n",
       "    </tr>\n",
       "    <tr>\n",
       "      <th>3</th>\n",
       "      <td>1970</td>\n",
       "      <td>1</td>\n",
       "      <td>0</td>\n",
       "      <td>0</td>\n",
       "      <td>78</td>\n",
       "      <td>Greece</td>\n",
       "      <td>8</td>\n",
       "      <td>Western Europe</td>\n",
       "      <td>0</td>\n",
       "      <td>1</td>\n",
       "      <td>...</td>\n",
       "      <td>Unknown</td>\n",
       "      <td>0</td>\n",
       "      <td>6</td>\n",
       "      <td>Explosives</td>\n",
       "      <td>1</td>\n",
       "      <td>PGIS</td>\n",
       "      <td>-9</td>\n",
       "      <td>-9</td>\n",
       "      <td>1</td>\n",
       "      <td>1</td>\n",
       "    </tr>\n",
       "    <tr>\n",
       "      <th>4</th>\n",
       "      <td>1970</td>\n",
       "      <td>1</td>\n",
       "      <td>0</td>\n",
       "      <td>0</td>\n",
       "      <td>101</td>\n",
       "      <td>Japan</td>\n",
       "      <td>4</td>\n",
       "      <td>East Asia</td>\n",
       "      <td>0</td>\n",
       "      <td>1</td>\n",
       "      <td>...</td>\n",
       "      <td>Unknown</td>\n",
       "      <td>0</td>\n",
       "      <td>8</td>\n",
       "      <td>Incendiary</td>\n",
       "      <td>1</td>\n",
       "      <td>PGIS</td>\n",
       "      <td>-9</td>\n",
       "      <td>-9</td>\n",
       "      <td>1</td>\n",
       "      <td>1</td>\n",
       "    </tr>\n",
       "  </tbody>\n",
       "</table>\n",
       "<p>5 rows × 28 columns</p>\n",
       "</div>"
      ],
      "text/plain": [
       "   iyear  imonth  iday  extended  country         country_txt  region  \\\n",
       "0   1970       7     2         0       58  Dominican Republic       2   \n",
       "1   1970       0     0         0      130              Mexico       1   \n",
       "2   1970       1     0         0      160         Philippines       5   \n",
       "3   1970       1     0         0       78              Greece       8   \n",
       "4   1970       1     0         0      101               Japan       4   \n",
       "\n",
       "                    region_txt  vicinity  crit1  ...  \\\n",
       "0  Central America & Caribbean         0      1  ...   \n",
       "1                North America         0      1  ...   \n",
       "2               Southeast Asia         0      1  ...   \n",
       "3               Western Europe         0      1  ...   \n",
       "4                    East Asia         0      1  ...   \n",
       "\n",
       "                                gname  individual  weaptype1  weaptype1_txt  \\\n",
       "0                              MANO-D           0         13        Unknown   \n",
       "1  23rd of September Communist League           0         13        Unknown   \n",
       "2                             Unknown           0         13        Unknown   \n",
       "3                             Unknown           0          6     Explosives   \n",
       "4                             Unknown           0          8     Incendiary   \n",
       "\n",
       "   property dbsource  INT_LOG INT_IDEO INT_MISC  INT_ANY  \n",
       "0         0     PGIS        0        0        0        0  \n",
       "1         0     PGIS        0        1        1        1  \n",
       "2         0     PGIS       -9       -9        1        1  \n",
       "3         1     PGIS       -9       -9        1        1  \n",
       "4         1     PGIS       -9       -9        1        1  \n",
       "\n",
       "[5 rows x 28 columns]"
      ]
     },
     "execution_count": 23,
     "metadata": {},
     "output_type": "execute_result"
    }
   ],
   "source": [
    "df.head()"
   ]
  },
  {
   "cell_type": "code",
   "execution_count": null,
   "id": "1d09d191",
   "metadata": {},
   "outputs": [],
   "source": []
  },
  {
   "cell_type": "code",
   "execution_count": 35,
   "id": "7a68945e",
   "metadata": {
    "scrolled": true
   },
   "outputs": [
    {
     "data": {
      "image/png": "[encoded data removed]",
      "text/plain": [
       "<Figure size 1440x720 with 1 Axes>"
      ]
     },
     "metadata": {
      "needs_background": "light"
     },
     "output_type": "display_data"
    }
   ],
   "source": [
    "plt.subplots(figsize=(20, 10))\n",
    "sns.countplot(x='iyear', data=df)\n",
    "plt.title('Attacks by years')\n",
    "plt.ylabel('Attacks')\n",
    "plt.xticks(rotation=(90))\n",
    "plt.show()"
   ]
  },
  {
   "cell_type": "markdown",
   "id": "bd9524ad",
   "metadata": {},
   "source": [
    "The Terrorist Attacks The Most In 2014"
   ]
  },
  {
   "cell_type": "code",
   "execution_count": 25,
   "id": "dd8c1357",
   "metadata": {
    "scrolled": true
   },
   "outputs": [
    {
     "data": {
      "text/html": [
       "<div>\n",
       "<style scoped>\n",
       "    .dataframe tbody tr th:only-of-type {\n",
       "        vertical-align: middle;\n",
       "    }\n",
       "\n",
       "    .dataframe tbody tr th {\n",
       "        vertical-align: top;\n",
       "    }\n",
       "\n",
       "    .dataframe thead th {\n",
       "        text-align: right;\n",
       "    }\n",
       "</style>\n",
       "<table border=\"1\" class=\"dataframe\">\n",
       "  <thead>\n",
       "    <tr style=\"text-align: right;\">\n",
       "      <th></th>\n",
       "      <th>iyear</th>\n",
       "      <th>imonth</th>\n",
       "      <th>iday</th>\n",
       "      <th>extended</th>\n",
       "      <th>country</th>\n",
       "      <th>country_txt</th>\n",
       "      <th>region</th>\n",
       "      <th>region_txt</th>\n",
       "      <th>vicinity</th>\n",
       "      <th>crit1</th>\n",
       "      <th>...</th>\n",
       "      <th>gname</th>\n",
       "      <th>individual</th>\n",
       "      <th>weaptype1</th>\n",
       "      <th>weaptype1_txt</th>\n",
       "      <th>property</th>\n",
       "      <th>dbsource</th>\n",
       "      <th>INT_LOG</th>\n",
       "      <th>INT_IDEO</th>\n",
       "      <th>INT_MISC</th>\n",
       "      <th>INT_ANY</th>\n",
       "    </tr>\n",
       "  </thead>\n",
       "  <tbody>\n",
       "    <tr>\n",
       "      <th>0</th>\n",
       "      <td>1970</td>\n",
       "      <td>7</td>\n",
       "      <td>2</td>\n",
       "      <td>0</td>\n",
       "      <td>58</td>\n",
       "      <td>Dominican Republic</td>\n",
       "      <td>2</td>\n",
       "      <td>Central America &amp; Caribbean</td>\n",
       "      <td>0</td>\n",
       "      <td>1</td>\n",
       "      <td>...</td>\n",
       "      <td>MANO-D</td>\n",
       "      <td>0</td>\n",
       "      <td>13</td>\n",
       "      <td>Unknown</td>\n",
       "      <td>0</td>\n",
       "      <td>PGIS</td>\n",
       "      <td>0</td>\n",
       "      <td>0</td>\n",
       "      <td>0</td>\n",
       "      <td>0</td>\n",
       "    </tr>\n",
       "    <tr>\n",
       "      <th>1</th>\n",
       "      <td>1970</td>\n",
       "      <td>0</td>\n",
       "      <td>0</td>\n",
       "      <td>0</td>\n",
       "      <td>130</td>\n",
       "      <td>Mexico</td>\n",
       "      <td>1</td>\n",
       "      <td>North America</td>\n",
       "      <td>0</td>\n",
       "      <td>1</td>\n",
       "      <td>...</td>\n",
       "      <td>23rd of September Communist League</td>\n",
       "      <td>0</td>\n",
       "      <td>13</td>\n",
       "      <td>Unknown</td>\n",
       "      <td>0</td>\n",
       "      <td>PGIS</td>\n",
       "      <td>0</td>\n",
       "      <td>1</td>\n",
       "      <td>1</td>\n",
       "      <td>1</td>\n",
       "    </tr>\n",
       "    <tr>\n",
       "      <th>2</th>\n",
       "      <td>1970</td>\n",
       "      <td>1</td>\n",
       "      <td>0</td>\n",
       "      <td>0</td>\n",
       "      <td>160</td>\n",
       "      <td>Philippines</td>\n",
       "      <td>5</td>\n",
       "      <td>Southeast Asia</td>\n",
       "      <td>0</td>\n",
       "      <td>1</td>\n",
       "      <td>...</td>\n",
       "      <td>Unknown</td>\n",
       "      <td>0</td>\n",
       "      <td>13</td>\n",
       "      <td>Unknown</td>\n",
       "      <td>0</td>\n",
       "      <td>PGIS</td>\n",
       "      <td>-9</td>\n",
       "      <td>-9</td>\n",
       "      <td>1</td>\n",
       "      <td>1</td>\n",
       "    </tr>\n",
       "    <tr>\n",
       "      <th>3</th>\n",
       "      <td>1970</td>\n",
       "      <td>1</td>\n",
       "      <td>0</td>\n",
       "      <td>0</td>\n",
       "      <td>78</td>\n",
       "      <td>Greece</td>\n",
       "      <td>8</td>\n",
       "      <td>Western Europe</td>\n",
       "      <td>0</td>\n",
       "      <td>1</td>\n",
       "      <td>...</td>\n",
       "      <td>Unknown</td>\n",
       "      <td>0</td>\n",
       "      <td>6</td>\n",
       "      <td>Explosives</td>\n",
       "      <td>1</td>\n",
       "      <td>PGIS</td>\n",
       "      <td>-9</td>\n",
       "      <td>-9</td>\n",
       "      <td>1</td>\n",
       "      <td>1</td>\n",
       "    </tr>\n",
       "    <tr>\n",
       "      <th>4</th>\n",
       "      <td>1970</td>\n",
       "      <td>1</td>\n",
       "      <td>0</td>\n",
       "      <td>0</td>\n",
       "      <td>101</td>\n",
       "      <td>Japan</td>\n",
       "      <td>4</td>\n",
       "      <td>East Asia</td>\n",
       "      <td>0</td>\n",
       "      <td>1</td>\n",
       "      <td>...</td>\n",
       "      <td>Unknown</td>\n",
       "      <td>0</td>\n",
       "      <td>8</td>\n",
       "      <td>Incendiary</td>\n",
       "      <td>1</td>\n",
       "      <td>PGIS</td>\n",
       "      <td>-9</td>\n",
       "      <td>-9</td>\n",
       "      <td>1</td>\n",
       "      <td>1</td>\n",
       "    </tr>\n",
       "  </tbody>\n",
       "</table>\n",
       "<p>5 rows × 28 columns</p>\n",
       "</div>"
      ],
      "text/plain": [
       "   iyear  imonth  iday  extended  country         country_txt  region  \\\n",
       "0   1970       7     2         0       58  Dominican Republic       2   \n",
       "1   1970       0     0         0      130              Mexico       1   \n",
       "2   1970       1     0         0      160         Philippines       5   \n",
       "3   1970       1     0         0       78              Greece       8   \n",
       "4   1970       1     0         0      101               Japan       4   \n",
       "\n",
       "                    region_txt  vicinity  crit1  ...  \\\n",
       "0  Central America & Caribbean         0      1  ...   \n",
       "1                North America         0      1  ...   \n",
       "2               Southeast Asia         0      1  ...   \n",
       "3               Western Europe         0      1  ...   \n",
       "4                    East Asia         0      1  ...   \n",
       "\n",
       "                                gname  individual  weaptype1  weaptype1_txt  \\\n",
       "0                              MANO-D           0         13        Unknown   \n",
       "1  23rd of September Communist League           0         13        Unknown   \n",
       "2                             Unknown           0         13        Unknown   \n",
       "3                             Unknown           0          6     Explosives   \n",
       "4                             Unknown           0          8     Incendiary   \n",
       "\n",
       "   property dbsource  INT_LOG INT_IDEO INT_MISC  INT_ANY  \n",
       "0         0     PGIS        0        0        0        0  \n",
       "1         0     PGIS        0        1        1        1  \n",
       "2         0     PGIS       -9       -9        1        1  \n",
       "3         1     PGIS       -9       -9        1        1  \n",
       "4         1     PGIS       -9       -9        1        1  \n",
       "\n",
       "[5 rows x 28 columns]"
      ]
     },
     "execution_count": 25,
     "metadata": {},
     "output_type": "execute_result"
    }
   ],
   "source": [
    "df.head()"
   ]
  },
  {
   "cell_type": "markdown",
   "id": "1996b82b",
   "metadata": {},
   "source": [
    "Weapons Used By The Terrorist"
   ]
  },
  {
   "cell_type": "code",
   "execution_count": 36,
   "id": "18196f0d",
   "metadata": {},
   "outputs": [
    {
     "data": {
      "image/png": "[encoded data removed]",
      "text/plain": [
       "<Figure size 864x432 with 1 Axes>"
      ]
     },
     "metadata": {
      "needs_background": "light"
     },
     "output_type": "display_data"
    }
   ],
   "source": [
    "plt.subplots(figsize=(12, 6))\n",
    "sns.countplot(x='weaptype1_txt', data=df)\n",
    "plt.title('Weapons Used By The Terrorist')\n",
    "plt.xticks(rotation=(90))\n",
    "plt.show()"
   ]
  },
  {
   "cell_type": "markdown",
   "id": "ec9dfea2",
   "metadata": {},
   "source": [
    "Terrorists Used Explosives and Firearms for the attack"
   ]
  },
  {
   "cell_type": "code",
   "execution_count": 27,
   "id": "7a9e44d4",
   "metadata": {},
   "outputs": [
    {
     "data": {
      "text/plain": [
       "Index(['iyear', 'imonth', 'iday', 'extended', 'country', 'country_txt',\n",
       "       'region', 'region_txt', 'vicinity', 'crit1', 'crit2', 'crit3',\n",
       "       'success', 'suicide', 'attacktype1', 'attacktype1_txt', 'targtype1',\n",
       "       'targtype1_txt', 'gname', 'individual', 'weaptype1', 'weaptype1_txt',\n",
       "       'property', 'dbsource', 'INT_LOG', 'INT_IDEO', 'INT_MISC', 'INT_ANY'],\n",
       "      dtype='object')"
      ]
     },
     "execution_count": 27,
     "metadata": {},
     "output_type": "execute_result"
    }
   ],
   "source": [
    "df.columns"
   ]
  },
  {
   "cell_type": "markdown",
   "id": "6f169295",
   "metadata": {},
   "source": [
    "Visualizing The Terrorist Main Target"
   ]
  },
  {
   "cell_type": "code",
   "execution_count": 28,
   "id": "267ba747",
   "metadata": {
    "scrolled": true
   },
   "outputs": [
    {
     "data": {
      "text/plain": [
       "0         Private Citizens & Property\n",
       "1             Government (Diplomatic)\n",
       "2                 Journalists & Media\n",
       "3             Government (Diplomatic)\n",
       "4             Government (Diplomatic)\n",
       "                     ...             \n",
       "181686                       Military\n",
       "181687                       Military\n",
       "181688    Private Citizens & Property\n",
       "181689           Government (General)\n",
       "181690                        Unknown\n",
       "Name: targtype1_txt, Length: 181691, dtype: object"
      ]
     },
     "execution_count": 28,
     "metadata": {},
     "output_type": "execute_result"
    }
   ],
   "source": [
    "df['targtype1_txt']"
   ]
  },
  {
   "cell_type": "code",
   "execution_count": 29,
   "id": "c8907620",
   "metadata": {},
   "outputs": [
    {
     "data": {
      "image/png": "[encoded data removed]",
      "text/plain": [
       "<Figure size 1440x720 with 1 Axes>"
      ]
     },
     "metadata": {
      "needs_background": "light"
     },
     "output_type": "display_data"
    }
   ],
   "source": [
    "plt.subplots(figsize=(20, 10))\n",
    "sns.countplot(x='targtype1_txt', data=df)\n",
    "plt.title('Terrorists Target')\n",
    "plt.xticks(rotation=(90))\n",
    "plt.show()"
   ]
  },
  {
   "cell_type": "markdown",
   "id": "95066dca",
   "metadata": {},
   "source": [
    "The Above Plot Explains that Private Citizens & The Military are their main Target"
   ]
  },
  {
   "cell_type": "code",
   "execution_count": null,
   "id": "318c6ca6",
   "metadata": {},
   "outputs": [],
   "source": []
  },
  {
   "cell_type": "markdown",
   "id": "669b629e",
   "metadata": {},
   "source": [
    "Visualizing The Groups the Terrorists atacks the most"
   ]
  },
  {
   "cell_type": "code",
   "execution_count": 30,
   "id": "a7d1a3eb",
   "metadata": {},
   "outputs": [
    {
     "data": {
      "image/png": "[encoded data removed]",
      "text/plain": [
       "<Figure size 864x432 with 1 Axes>"
      ]
     },
     "metadata": {
      "needs_background": "light"
     },
     "output_type": "display_data"
    }
   ],
   "source": [
    "plt.subplots(figsize=(12,6))\n",
    "sns.barplot(x=df.gname.value_counts()[1:15].values, y=df.gname.value_counts()[1:15].index, data=df)\n",
    "plt.title('Group Vs Attacks')\n",
    "plt.show()"
   ]
  },
  {
   "cell_type": "markdown",
   "id": "d36f8351",
   "metadata": {},
   "source": [
    "The Above plot explains that the terrorist attacks The Talibans & The Islamic Society Of Iraq and the Levant(ISIL) group the most"
   ]
  },
  {
   "cell_type": "code",
   "execution_count": null,
   "id": "8e43c008",
   "metadata": {},
   "outputs": [],
   "source": []
  },
  {
   "cell_type": "code",
   "execution_count": 32,
   "id": "3b775821",
   "metadata": {},
   "outputs": [
    {
     "data": {
      "text/plain": [
       "Index(['iyear', 'imonth', 'iday', 'extended', 'resolution', 'country',\n",
       "       'country_txt', 'region', 'region_txt', 'provstate',\n",
       "       ...\n",
       "       'nreleased', 'addnotes', 'scite1', 'scite2', 'scite3', 'dbsource',\n",
       "       'INT_LOG', 'INT_IDEO', 'INT_MISC', 'INT_ANY'],\n",
       "      dtype='object', length=132)"
      ]
     },
     "execution_count": 32,
     "metadata": {},
     "output_type": "execute_result"
    }
   ],
   "source": [
    "data.columns"
   ]
  },
  {
   "cell_type": "code",
   "execution_count": 33,
   "id": "9f45cecf",
   "metadata": {},
   "outputs": [
    {
     "data": {
      "text/plain": [
       "Index(['iyear', 'imonth', 'iday', 'extended', 'country', 'country_txt',\n",
       "       'region', 'region_txt', 'vicinity', 'crit1', 'crit2', 'crit3',\n",
       "       'success', 'suicide', 'attacktype1', 'attacktype1_txt', 'targtype1',\n",
       "       'targtype1_txt', 'gname', 'individual', 'weaptype1', 'weaptype1_txt',\n",
       "       'property', 'dbsource', 'INT_LOG', 'INT_IDEO', 'INT_MISC', 'INT_ANY'],\n",
       "      dtype='object')"
      ]
     },
     "execution_count": 33,
     "metadata": {},
     "output_type": "execute_result"
    }
   ],
   "source": [
    "df.columns"
   ]
  },
  {
   "cell_type": "code",
   "execution_count": null,
   "id": "67fb851b",
   "metadata": {},
   "outputs": [],
   "source": []
  },
  {
   "cell_type": "code",
   "execution_count": 34,
   "id": "f02e91af",
   "metadata": {},
   "outputs": [
    {
     "data": {
      "image/png": "[encoded data removed]",
      "text/plain": [
       "<Figure size 864x432 with 1 Axes>"
      ]
     },
     "metadata": {
      "needs_background": "light"
     },
     "output_type": "display_data"
    }
   ],
   "source": [
    "plt.subplots(figsize=(12,6))\n",
    "sns.barplot(x=df.iyear.value_counts()[1:15].index, y=df.iyear.value_counts()[1:15].values, data=df, palette='bright')\n",
    "plt.title('Years')\n",
    "plt.xlabel('iyears')\n",
    "plt.ylabel('Counts')\n",
    "plt.show()"
   ]
  },
  {
   "cell_type": "markdown",
   "id": "c5f494b7",
   "metadata": {},
   "source": [
    "As a Defense Analyst, The Insights i got from the EDA are :\n",
    "\n",
    "1. Terrorist attack increase in recent years.\n",
    "2. City with the highest attack is Baghdad.\n",
    "3. MiddleEast & North Africa Regions are having the highest numbers of attack by the terrorist.\n",
    "4. Terrorist main targets are the Private citizens and the Military.\n",
    "5. The Talibans & The Islamic society Of Iraq has the highest number of attack.\n",
    "6. The weapons used by the Terrorist for attack is Explosives & Firearm.\n",
    "7. 2014 is the year that has the highest number of attacks."
   ]
  }
 ],
 "metadata": {
  "kernelspec": {
   "display_name": "Python 3 (ipykernel)",
   "language": "python",
   "name": "python3"
  },
  "language_info": {
   "codemirror_mode": {
    "name": "ipython",
    "version": 3
   },
   "file_extension": ".py",
   "mimetype": "text/x-python",
   "name": "python",
   "nbconvert_exporter": "python",
   "pygments_lexer": "ipython3",
   "version": "3.9.12"
  }
 },
 "nbformat": 4,
 "nbformat_minor": 5
}
